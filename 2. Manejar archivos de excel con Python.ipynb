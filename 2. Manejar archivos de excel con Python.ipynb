{
 "cells": [
  {
   "cell_type": "markdown",
   "metadata": {},
   "source": [
    "# Manejar Archivos de Excel con Python"
   ]
  },
  {
   "cell_type": "markdown",
   "metadata": {},
   "source": [
    "## 1. Podemos trabjar archvios de excel con Python mediante la librería Pandas https://pandas.pydata.org"
   ]
  },
  {
   "cell_type": "code",
   "execution_count": null,
   "metadata": {},
   "outputs": [],
   "source": [
    "! pip install pandas"
   ]
  },
  {
   "cell_type": "code",
   "execution_count": null,
   "metadata": {},
   "outputs": [],
   "source": [
    "! pip install openpyxl"
   ]
  },
  {
   "cell_type": "markdown",
   "metadata": {},
   "source": [
    "## 2. Pandas nos permite operar los archivos de Excel como *DataFrames* usando `read_excel`"
   ]
  },
  {
   "cell_type": "code",
   "execution_count": 15,
   "metadata": {},
   "outputs": [
    {
     "data": {
      "text/html": [
       "<div>\n",
       "<style scoped>\n",
       "    .dataframe tbody tr th:only-of-type {\n",
       "        vertical-align: middle;\n",
       "    }\n",
       "\n",
       "    .dataframe tbody tr th {\n",
       "        vertical-align: top;\n",
       "    }\n",
       "\n",
       "    .dataframe thead th {\n",
       "        text-align: right;\n",
       "    }\n",
       "</style>\n",
       "<table border=\"1\" class=\"dataframe\">\n",
       "  <thead>\n",
       "    <tr style=\"text-align: right;\">\n",
       "      <th></th>\n",
       "      <th>CLAVE_MUNICIPIO</th>\n",
       "      <th>MUNICIPIO</th>\n",
       "      <th>CLAVE_ENTIDAD</th>\n",
       "    </tr>\n",
       "  </thead>\n",
       "  <tbody>\n",
       "    <tr>\n",
       "      <th>841</th>\n",
       "      <td>41</td>\n",
       "      <td>IRIMBO</td>\n",
       "      <td>16</td>\n",
       "    </tr>\n",
       "    <tr>\n",
       "      <th>1373</th>\n",
       "      <td>350</td>\n",
       "      <td>SAN SEBASTIÁN TUTLA</td>\n",
       "      <td>20</td>\n",
       "    </tr>\n",
       "    <tr>\n",
       "      <th>893</th>\n",
       "      <td>93</td>\n",
       "      <td>TLALPUJAHUA</td>\n",
       "      <td>16</td>\n",
       "    </tr>\n",
       "    <tr>\n",
       "      <th>1852</th>\n",
       "      <td>9</td>\n",
       "      <td>CERRO DE SAN PEDRO</td>\n",
       "      <td>24</td>\n",
       "    </tr>\n",
       "    <tr>\n",
       "      <th>2139</th>\n",
       "      <td>22</td>\n",
       "      <td>ATZACAN</td>\n",
       "      <td>30</td>\n",
       "    </tr>\n",
       "  </tbody>\n",
       "</table>\n",
       "</div>"
      ],
      "text/plain": [
       "      CLAVE_MUNICIPIO            MUNICIPIO  CLAVE_ENTIDAD\n",
       "841                41               IRIMBO             16\n",
       "1373              350  SAN SEBASTIÁN TUTLA             20\n",
       "893                93          TLALPUJAHUA             16\n",
       "1852                9   CERRO DE SAN PEDRO             24\n",
       "2139               22              ATZACAN             30"
      ]
     },
     "execution_count": 15,
     "metadata": {},
     "output_type": "execute_result"
    }
   ],
   "source": [
    "import pandas\n",
    "\n",
    "data_municipios = pandas.read_excel(\"catalogs.xlsx\", sheet_name=\"Catálogo MUNICIPIOS\", engine='openpyxl')\n",
    "\n",
    "data_municipios.sample(5)"
   ]
  },
  {
   "cell_type": "markdown",
   "metadata": {},
   "source": [
    "## 3. Cada hoja en el libro de excel será un *DataFrame*"
   ]
  },
  {
   "cell_type": "code",
   "execution_count": 16,
   "metadata": {},
   "outputs": [
    {
     "data": {
      "text/html": [
       "<div>\n",
       "<style scoped>\n",
       "    .dataframe tbody tr th:only-of-type {\n",
       "        vertical-align: middle;\n",
       "    }\n",
       "\n",
       "    .dataframe tbody tr th {\n",
       "        vertical-align: top;\n",
       "    }\n",
       "\n",
       "    .dataframe thead th {\n",
       "        text-align: right;\n",
       "    }\n",
       "</style>\n",
       "<table border=\"1\" class=\"dataframe\">\n",
       "  <thead>\n",
       "    <tr style=\"text-align: right;\">\n",
       "      <th></th>\n",
       "      <th>CLAVE_ENTIDAD</th>\n",
       "      <th>ENTIDAD_FEDERATIVA</th>\n",
       "      <th>ABREVIATURA</th>\n",
       "    </tr>\n",
       "  </thead>\n",
       "  <tbody>\n",
       "    <tr>\n",
       "      <th>26</th>\n",
       "      <td>27</td>\n",
       "      <td>TABASCO</td>\n",
       "      <td>TC</td>\n",
       "    </tr>\n",
       "    <tr>\n",
       "      <th>34</th>\n",
       "      <td>98</td>\n",
       "      <td>SE IGNORA</td>\n",
       "      <td>SI</td>\n",
       "    </tr>\n",
       "    <tr>\n",
       "      <th>13</th>\n",
       "      <td>14</td>\n",
       "      <td>JALISCO</td>\n",
       "      <td>JC</td>\n",
       "    </tr>\n",
       "    <tr>\n",
       "      <th>12</th>\n",
       "      <td>13</td>\n",
       "      <td>HIDALGO</td>\n",
       "      <td>HG</td>\n",
       "    </tr>\n",
       "    <tr>\n",
       "      <th>9</th>\n",
       "      <td>10</td>\n",
       "      <td>DURANGO</td>\n",
       "      <td>DG</td>\n",
       "    </tr>\n",
       "  </tbody>\n",
       "</table>\n",
       "</div>"
      ],
      "text/plain": [
       "    CLAVE_ENTIDAD ENTIDAD_FEDERATIVA ABREVIATURA\n",
       "26             27            TABASCO          TC\n",
       "34             98          SE IGNORA          SI\n",
       "13             14            JALISCO          JC\n",
       "12             13            HIDALGO          HG\n",
       "9              10            DURANGO          DG"
      ]
     },
     "execution_count": 16,
     "metadata": {},
     "output_type": "execute_result"
    }
   ],
   "source": [
    "data_entidades = pandas.read_excel(\"catalogs.xlsx\", sheet_name=\"Catálogo de ENTIDADES\", engine='openpyxl')\n",
    "\n",
    "data_entidades.sample(5)"
   ]
  },
  {
   "cell_type": "markdown",
   "metadata": {},
   "source": [
    "## 4. Podemos combinar la información de dos *DataFrames*, mediante el nombre de la columna del *DataFrame* izquierdo que equivalga en valor a la columna del *DataFrame* derecho usando `join`"
   ]
  },
  {
   "cell_type": "code",
   "execution_count": 24,
   "metadata": {},
   "outputs": [
    {
     "data": {
      "text/html": [
       "<div>\n",
       "<style scoped>\n",
       "    .dataframe tbody tr th:only-of-type {\n",
       "        vertical-align: middle;\n",
       "    }\n",
       "\n",
       "    .dataframe tbody tr th {\n",
       "        vertical-align: top;\n",
       "    }\n",
       "\n",
       "    .dataframe thead th {\n",
       "        text-align: right;\n",
       "    }\n",
       "</style>\n",
       "<table border=\"1\" class=\"dataframe\">\n",
       "  <thead>\n",
       "    <tr style=\"text-align: right;\">\n",
       "      <th></th>\n",
       "      <th>CLAVE_MUNICIPIO</th>\n",
       "      <th>MUNICIPIO</th>\n",
       "      <th>CLAVE_ENTIDAD</th>\n",
       "      <th>ENTIDAD_FEDERATIVA</th>\n",
       "      <th>ABREVIATURA</th>\n",
       "    </tr>\n",
       "  </thead>\n",
       "  <tbody>\n",
       "    <tr>\n",
       "      <th>1568</th>\n",
       "      <td>545</td>\n",
       "      <td>TEOTITLÁN DE FLORES MAGÓN</td>\n",
       "      <td>20</td>\n",
       "      <td>OAXACA</td>\n",
       "      <td>OC</td>\n",
       "    </tr>\n",
       "    <tr>\n",
       "      <th>1512</th>\n",
       "      <td>489</td>\n",
       "      <td>SANTIAGO TETEPEC</td>\n",
       "      <td>20</td>\n",
       "      <td>OAXACA</td>\n",
       "      <td>OC</td>\n",
       "    </tr>\n",
       "    <tr>\n",
       "      <th>541</th>\n",
       "      <td>78</td>\n",
       "      <td>XOCHIATIPAN</td>\n",
       "      <td>13</td>\n",
       "      <td>HIDALGO</td>\n",
       "      <td>HG</td>\n",
       "    </tr>\n",
       "    <tr>\n",
       "      <th>352</th>\n",
       "      <td>18</td>\n",
       "      <td>JARAL DEL PROGRESO</td>\n",
       "      <td>11</td>\n",
       "      <td>GUANAJUATO</td>\n",
       "      <td>GT</td>\n",
       "    </tr>\n",
       "    <tr>\n",
       "      <th>1488</th>\n",
       "      <td>465</td>\n",
       "      <td>SANTIAGO IXCUINTEPEC</td>\n",
       "      <td>20</td>\n",
       "      <td>OAXACA</td>\n",
       "      <td>OC</td>\n",
       "    </tr>\n",
       "  </tbody>\n",
       "</table>\n",
       "</div>"
      ],
      "text/plain": [
       "      CLAVE_MUNICIPIO                  MUNICIPIO  CLAVE_ENTIDAD  \\\n",
       "1568              545  TEOTITLÁN DE FLORES MAGÓN             20   \n",
       "1512              489           SANTIAGO TETEPEC             20   \n",
       "541                78                XOCHIATIPAN             13   \n",
       "352                18         JARAL DEL PROGRESO             11   \n",
       "1488              465       SANTIAGO IXCUINTEPEC             20   \n",
       "\n",
       "     ENTIDAD_FEDERATIVA ABREVIATURA  \n",
       "1568             OAXACA          OC  \n",
       "1512             OAXACA          OC  \n",
       "541             HIDALGO          HG  \n",
       "352          GUANAJUATO          GT  \n",
       "1488             OAXACA          OC  "
      ]
     },
     "execution_count": 24,
     "metadata": {},
     "output_type": "execute_result"
    }
   ],
   "source": [
    "data_municipios_entidades = data_municipios.join(data_entidades.set_index(\"CLAVE_ENTIDAD\"), on='CLAVE_ENTIDAD')\n",
    "\n",
    "data_municipios_entidades.sample(5)"
   ]
  },
  {
   "cell_type": "markdown",
   "metadata": {},
   "source": [
    "## 5. Podemos filtrar datos de interés usando `query`"
   ]
  },
  {
   "cell_type": "code",
   "execution_count": 26,
   "metadata": {},
   "outputs": [
    {
     "data": {
      "text/html": [
       "<div>\n",
       "<style scoped>\n",
       "    .dataframe tbody tr th:only-of-type {\n",
       "        vertical-align: middle;\n",
       "    }\n",
       "\n",
       "    .dataframe tbody tr th {\n",
       "        vertical-align: top;\n",
       "    }\n",
       "\n",
       "    .dataframe thead th {\n",
       "        text-align: right;\n",
       "    }\n",
       "</style>\n",
       "<table border=\"1\" class=\"dataframe\">\n",
       "  <thead>\n",
       "    <tr style=\"text-align: right;\">\n",
       "      <th></th>\n",
       "      <th>CLAVE_MUNICIPIO</th>\n",
       "      <th>MUNICIPIO</th>\n",
       "      <th>CLAVE_ENTIDAD</th>\n",
       "      <th>ENTIDAD_FEDERATIVA</th>\n",
       "      <th>ABREVIATURA</th>\n",
       "    </tr>\n",
       "  </thead>\n",
       "  <tbody>\n",
       "    <tr>\n",
       "      <th>1374</th>\n",
       "      <td>351</td>\n",
       "      <td>SAN SIMÓN ALMOLONGAS</td>\n",
       "      <td>20</td>\n",
       "      <td>OAXACA</td>\n",
       "      <td>OC</td>\n",
       "    </tr>\n",
       "    <tr>\n",
       "      <th>1382</th>\n",
       "      <td>359</td>\n",
       "      <td>SANTA ANA YARENI</td>\n",
       "      <td>20</td>\n",
       "      <td>OAXACA</td>\n",
       "      <td>OC</td>\n",
       "    </tr>\n",
       "    <tr>\n",
       "      <th>1392</th>\n",
       "      <td>369</td>\n",
       "      <td>SANTA CATARINA QUIANÉ</td>\n",
       "      <td>20</td>\n",
       "      <td>OAXACA</td>\n",
       "      <td>OC</td>\n",
       "    </tr>\n",
       "    <tr>\n",
       "      <th>1293</th>\n",
       "      <td>270</td>\n",
       "      <td>SAN MIGUEL HUAUTLA</td>\n",
       "      <td>20</td>\n",
       "      <td>OAXACA</td>\n",
       "      <td>OC</td>\n",
       "    </tr>\n",
       "    <tr>\n",
       "      <th>1526</th>\n",
       "      <td>503</td>\n",
       "      <td>SANTIAGO ZOOCHILA</td>\n",
       "      <td>20</td>\n",
       "      <td>OAXACA</td>\n",
       "      <td>OC</td>\n",
       "    </tr>\n",
       "  </tbody>\n",
       "</table>\n",
       "</div>"
      ],
      "text/plain": [
       "      CLAVE_MUNICIPIO              MUNICIPIO  CLAVE_ENTIDAD  \\\n",
       "1374              351   SAN SIMÓN ALMOLONGAS             20   \n",
       "1382              359       SANTA ANA YARENI             20   \n",
       "1392              369  SANTA CATARINA QUIANÉ             20   \n",
       "1293              270     SAN MIGUEL HUAUTLA             20   \n",
       "1526              503      SANTIAGO ZOOCHILA             20   \n",
       "\n",
       "     ENTIDAD_FEDERATIVA ABREVIATURA  \n",
       "1374             OAXACA          OC  \n",
       "1382             OAXACA          OC  \n",
       "1392             OAXACA          OC  \n",
       "1293             OAXACA          OC  \n",
       "1526             OAXACA          OC  "
      ]
     },
     "execution_count": 26,
     "metadata": {},
     "output_type": "execute_result"
    }
   ],
   "source": [
    "data_oaxaca = data_municipios_entidades.query(\"ENTIDAD_FEDERATIVA == 'OAXACA'\")\n",
    "\n",
    "data_oaxaca.sample(5)"
   ]
  },
  {
   "cell_type": "markdown",
   "metadata": {},
   "source": [
    "## 6. Podemos obtener los valores de una columna indicando su nombre"
   ]
  },
  {
   "cell_type": "code",
   "execution_count": 27,
   "metadata": {},
   "outputs": [
    {
     "data": {
      "text/plain": [
       "1024                     ABEJONES\n",
       "1025    ACATLÁN DE PÉREZ FIGUEROA\n",
       "1026         ASUNCIÓN CACALOTEPEC\n",
       "1027          ASUNCIÓN CUYOTEPEJI\n",
       "1028          ASUNCIÓN IXTALTEPEC\n",
       "                  ...            \n",
       "1590           ZAPOTITLÁN LAGUNAS\n",
       "1591            ZAPOTITLÁN PALMAS\n",
       "1592       SANTA INÉS DE ZARAGOZA\n",
       "1593          ZIMATLÁN DE ÁLVAREZ\n",
       "1594              NO ESPECIFICADO\n",
       "Name: MUNICIPIO, Length: 571, dtype: object"
      ]
     },
     "execution_count": 27,
     "metadata": {},
     "output_type": "execute_result"
    }
   ],
   "source": [
    "municipios_oaxaca = data_oaxaca[\"MUNICIPIO\"]\n",
    "\n",
    "municipios_oaxaca"
   ]
  },
  {
   "cell_type": "markdown",
   "metadata": {},
   "source": [
    "## 7. Podemos obtener el conjunto de valores diferentes de una columna, por ejemplo, las distintas entidades"
   ]
  },
  {
   "cell_type": "code",
   "execution_count": 28,
   "metadata": {},
   "outputs": [
    {
     "data": {
      "text/plain": [
       "{'AGUASCALIENTES',\n",
       " 'BAJA CALIFORNIA',\n",
       " 'BAJA CALIFORNIA SUR',\n",
       " 'CAMPECHE',\n",
       " 'CHIAPAS',\n",
       " 'CHIHUAHUA',\n",
       " 'CIUDAD DE MÉXICO',\n",
       " 'COAHUILA DE ZARAGOZA',\n",
       " 'COLIMA',\n",
       " 'DURANGO',\n",
       " 'ESTADOS UNIDOS MEXICANOS',\n",
       " 'GUANAJUATO',\n",
       " 'GUERRERO',\n",
       " 'HIDALGO',\n",
       " 'JALISCO',\n",
       " 'MICHOACÁN DE OCAMPO',\n",
       " 'MORELOS',\n",
       " 'MÉXICO',\n",
       " 'NAYARIT',\n",
       " 'NO APLICA',\n",
       " 'NO ESPECIFICADO',\n",
       " 'NUEVO LEÓN',\n",
       " 'OAXACA',\n",
       " 'PUEBLA',\n",
       " 'QUERÉTARO',\n",
       " 'QUINTANA ROO',\n",
       " 'SAN LUIS POTOSÍ',\n",
       " 'SE IGNORA',\n",
       " 'SINALOA',\n",
       " 'SONORA',\n",
       " 'TABASCO',\n",
       " 'TAMAULIPAS',\n",
       " 'TLAXCALA',\n",
       " 'VERACRUZ DE IGNACIO DE LA LLAVE',\n",
       " 'YUCATÁN',\n",
       " 'ZACATECAS'}"
      ]
     },
     "execution_count": 28,
     "metadata": {},
     "output_type": "execute_result"
    }
   ],
   "source": [
    "entidades = set(data_municipios_entidades[\"ENTIDAD_FEDERATIVA\"])\n",
    "\n",
    "entidades"
   ]
  },
  {
   "cell_type": "markdown",
   "metadata": {},
   "source": [
    "## 8. Podemos contar cuántos municipios hay por cada entidad"
   ]
  },
  {
   "cell_type": "code",
   "execution_count": 45,
   "metadata": {},
   "outputs": [
    {
     "data": {
      "text/html": [
       "<div>\n",
       "<style scoped>\n",
       "    .dataframe tbody tr th:only-of-type {\n",
       "        vertical-align: middle;\n",
       "    }\n",
       "\n",
       "    .dataframe tbody tr th {\n",
       "        vertical-align: top;\n",
       "    }\n",
       "\n",
       "    .dataframe thead th {\n",
       "        text-align: right;\n",
       "    }\n",
       "</style>\n",
       "<table border=\"1\" class=\"dataframe\">\n",
       "  <thead>\n",
       "    <tr style=\"text-align: right;\">\n",
       "      <th></th>\n",
       "      <th>ENTIDAD_FEDERATIVA</th>\n",
       "      <th>TOTAL_MUNICIPIOS</th>\n",
       "    </tr>\n",
       "  </thead>\n",
       "  <tbody>\n",
       "    <tr>\n",
       "      <th>33</th>\n",
       "      <td>SONORA</td>\n",
       "      <td>73</td>\n",
       "    </tr>\n",
       "    <tr>\n",
       "      <th>14</th>\n",
       "      <td>ZACATECAS</td>\n",
       "      <td>59</td>\n",
       "    </tr>\n",
       "    <tr>\n",
       "      <th>24</th>\n",
       "      <td>MICHOACÁN DE OCAMPO</td>\n",
       "      <td>114</td>\n",
       "    </tr>\n",
       "    <tr>\n",
       "      <th>3</th>\n",
       "      <td>SAN LUIS POTOSÍ</td>\n",
       "      <td>59</td>\n",
       "    </tr>\n",
       "    <tr>\n",
       "      <th>12</th>\n",
       "      <td>HIDALGO</td>\n",
       "      <td>85</td>\n",
       "    </tr>\n",
       "  </tbody>\n",
       "</table>\n",
       "</div>"
      ],
      "text/plain": [
       "     ENTIDAD_FEDERATIVA  TOTAL_MUNICIPIOS\n",
       "33               SONORA                73\n",
       "14            ZACATECAS                59\n",
       "24  MICHOACÁN DE OCAMPO               114\n",
       "3       SAN LUIS POTOSÍ                59\n",
       "12              HIDALGO                85"
      ]
     },
     "execution_count": 45,
     "metadata": {},
     "output_type": "execute_result"
    }
   ],
   "source": [
    "municipios = []\n",
    "\n",
    "for entidad in entidades:\n",
    "    total_municipios = len(data_municipios_entidades.query(\"ENTIDAD_FEDERATIVA == '{}'\".format(entidad)))\n",
    "    municipios.append(total_municipios)\n",
    "    \n",
    "data_municipios_por_entidad = pandas.DataFrame(zip(entidades, municipios), columns=[\"ENTIDAD_FEDERATIVA\", \"TOTAL_MUNICIPIOS\"])\n",
    "\n",
    "data_municipios_por_entidad.sample(5)"
   ]
  },
  {
   "cell_type": "markdown",
   "metadata": {},
   "source": [
    "## 9. Podemos graficas dos columnas de un *DataFrame* usando `matplotlib`"
   ]
  },
  {
   "cell_type": "code",
   "execution_count": null,
   "metadata": {},
   "outputs": [],
   "source": [
    "! pip install matplotlib"
   ]
  },
  {
   "cell_type": "code",
   "execution_count": 50,
   "metadata": {},
   "outputs": [
    {
     "data": {
      "image/png": "[encoded data removed]",
      "text/plain": [
       "<Figure size 432x288 with 1 Axes>"
      ]
     },
     "metadata": {
      "needs_background": "light"
     },
     "output_type": "display_data"
    }
   ],
   "source": [
    "import matplotlib.pyplot as plt\n",
    "\n",
    "plt.bar(data_municipios_por_entidad[\"ENTIDAD_FEDERATIVA\"], data_municipios_por_entidad[\"TOTAL_MUNICIPIOS\"])\n",
    "plt.show()"
   ]
  },
  {
   "cell_type": "markdown",
   "metadata": {},
   "source": [
    "## 10. Podemos reducir los elementos a graficas y ajustar las leyendas de los ejes"
   ]
  },
  {
   "cell_type": "code",
   "execution_count": 58,
   "metadata": {},
   "outputs": [
    {
     "data": {
      "image/png": "[encoded data removed]",
      "text/plain": [
       "<Figure size 432x288 with 1 Axes>"
      ]
     },
     "metadata": {
      "needs_background": "light"
     },
     "output_type": "display_data"
    }
   ],
   "source": [
    "import matplotlib.pyplot as plt\n",
    "\n",
    "plt.bar(data_municipios_por_entidad[\"ENTIDAD_FEDERATIVA\"][5:20], data_municipios_por_entidad[\"TOTAL_MUNICIPIOS\"][5:20])\n",
    "plt.xticks(rotation=60)\n",
    "plt.show()"
   ]
  },
  {
   "cell_type": "code",
   "execution_count": null,
   "metadata": {},
   "outputs": [],
   "source": []
  }
 ],
 "metadata": {
  "kernelspec": {
   "display_name": "Python 3",
   "language": "python",
   "name": "python3"
  },
  "language_info": {
   "codemirror_mode": {
    "name": "ipython",
    "version": 3
   },
   "file_extension": ".py",
   "mimetype": "text/x-python",
   "name": "python",
   "nbconvert_exporter": "python",
   "pygments_lexer": "ipython3",
   "version": "3.9.0"
  }
 },
 "nbformat": 4,
 "nbformat_minor": 4
}
